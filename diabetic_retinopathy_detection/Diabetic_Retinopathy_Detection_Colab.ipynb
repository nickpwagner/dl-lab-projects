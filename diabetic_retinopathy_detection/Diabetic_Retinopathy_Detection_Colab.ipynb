{
  "cells": [
    {
      "cell_type": "markdown",
      "metadata": {
        "id": "DcVwtt6Izn1P"
      },
      "source": [
        "[![Open In Colab](https://colab.research.google.com/assets/colab-badge.svg)](https://github.tik.uni-stuttgart.de/iss/dl-lab-21w-team08/blob/7919ab59198be104e465f6a7f4c8fd227c91b5f9/Diabetic_Retinopathy_Detection_Colab.ipynb)\n",
        "\n"
      ]
    },
    {
      "cell_type": "markdown",
      "metadata": {
        "id": "BU6NpCV8HK6_"
      },
      "source": [
        "## Diabetic Retinopathy Detection - Training Script\n",
        "\n",
        "Downloads the specified branch of the repo from the github and can run the training or even a full parameter sweep."
      ]
    },
    {
      "cell_type": "code",
      "execution_count": 1,
      "metadata": {
        "id": "hOKdDBKNZzsy"
      },
      "outputs": [],
      "source": [
        "#@title Select your options\n",
        "\n",
        "user = \"stuttgartteam8\" #@param [\"stuttgartteam8\", \"david\", \"nick\"]\n",
        "branch_name = \"useWandb_dropGin\"    #@param {type:\"string\"}\n",
        "\n",
        "sweep = True #@param {type:\"boolean\"}\n",
        "sweep_file = \"sweep.yaml\" #@param {type:\"string\"}"
      ]
    },
    {
      "cell_type": "code",
      "execution_count": 2,
      "metadata": {
        "colab": {
          "base_uri": "https://localhost:8080/"
        },
        "id": "Mn_otFyluR2P",
        "outputId": "3c6ae77b-5d0f-4bf7-9359-30dc82dc6ccb"
      },
      "outputs": [
        {
          "name": "stdout",
          "output_type": "stream",
          "text": [
            "Mon Dec 13 14:46:06 2021       \n",
            "+-----------------------------------------------------------------------------+\n",
            "| NVIDIA-SMI 495.44       Driver Version: 460.32.03    CUDA Version: 11.2     |\n",
            "|-------------------------------+----------------------+----------------------+\n",
            "| GPU  Name        Persistence-M| Bus-Id        Disp.A | Volatile Uncorr. ECC |\n",
            "| Fan  Temp  Perf  Pwr:Usage/Cap|         Memory-Usage | GPU-Util  Compute M. |\n",
            "|                               |                      |               MIG M. |\n",
            "|===============================+======================+======================|\n",
            "|   0  Tesla P100-PCIE...  Off  | 00000000:00:04.0 Off |                    0 |\n",
            "| N/A   56C    P0    44W / 250W |   9005MiB / 16280MiB |      0%      Default |\n",
            "|                               |                      |                  N/A |\n",
            "+-------------------------------+----------------------+----------------------+\n",
            "                                                                               \n",
            "+-----------------------------------------------------------------------------+\n",
            "| Processes:                                                                  |\n",
            "|  GPU   GI   CI        PID   Type   Process name                  GPU Memory |\n",
            "|        ID   ID                                                   Usage      |\n",
            "|=============================================================================|\n",
            "|  No running processes found                                                 |\n",
            "+-----------------------------------------------------------------------------+\n"
          ]
        }
      ],
      "source": [
        "!nvidia-smi"
      ]
    },
    {
      "cell_type": "code",
      "execution_count": 3,
      "metadata": {
        "id": "5W1kSkTxFoGV"
      },
      "outputs": [],
      "source": [
        "# download dataset\n",
        "%%capture\n",
        "%cd /content/\n",
        "# 512x512 datase (recommended to unsure better image quality after cropping...)\n",
        "!gdown https://drive.google.com/uc?id=1GPX8OTNfLX1jtm6iouBZf8BBnW9gKiLM\n",
        "!unzip -u \"/content/IDRID_dataset_512x512.zip\" -d \"/content/\";\n",
        "# 256x256 dataset\n",
        "#!gdown https://drive.google.com/uc?id=1scBdv4rcSDI0E45snBNrCnXNr9T5AnN_\n",
        "#!unzip -u \"/content/IDRID_dataset.zip\" -d \"/content/\";"
      ]
    },
    {
      "cell_type": "code",
      "execution_count": 4,
      "metadata": {
        "colab": {
          "base_uri": "https://localhost:8080/"
        },
        "id": "57_0u9-gqtmS",
        "outputId": "260a5aa9-74ab-47a0-ec34-349ee5856310"
      },
      "outputs": [
        {
          "name": "stdout",
          "output_type": "stream",
          "text": [
            "/\n",
            "/content\n",
            "Cloning into 'dl-lab-21w-team08'...\n",
            "remote: Enumerating objects: 58, done.\u001b[K\n",
            "remote: Counting objects: 100% (58/58), done.\u001b[K\n",
            "remote: Compressing objects: 100% (40/40), done.\u001b[K\n",
            "remote: Total 222 (delta 32), reused 41 (delta 18), pack-reused 164\u001b[K\n",
            "Receiving objects: 100% (222/222), 5.59 MiB | 13.50 MiB/s, done.\n",
            "Resolving deltas: 100% (112/112), done.\n"
          ]
        }
      ],
      "source": [
        "# delete existing repo to ensure the newest is fetched from github \n",
        "% cd /\n",
        "!rm -r /content/dl-lab-21w-team08\n",
        "\n",
        "# download repo\n",
        "# %%capture\n",
        "%cd /content/\n",
        "#if user == \"david\":\n",
        "git_access_token = \"28fdd19659f4a0e5bcaf16dd820e5c68bed91102\"\n",
        "\n",
        "# !git clone https://28fdd19659f4a0e5bcaf16dd820e5c68bed91102@github.tik.uni-stuttgart.de/iss/dl-lab-21w-team08.git\n",
        "clone_comand = f\"git clone --single-branch --branch {branch_name} https://{git_access_token}@github.tik.uni-stuttgart.de/iss/dl-lab-21w-team08.git\"\n",
        "!$clone_comand"
      ]
    },
    {
      "cell_type": "code",
      "execution_count": 5,
      "metadata": {
        "id": "MhkqzL-wFwpF"
      },
      "outputs": [],
      "source": [
        "# install dependencies\n",
        "%%capture\n",
        "!pip install wandb\n",
        "!pip install tensorflow_addons\n",
        "#!pip install gin-config"
      ]
    },
    {
      "cell_type": "code",
      "execution_count": 6,
      "metadata": {
        "id": "zu4k_1duC-DT"
      },
      "outputs": [],
      "source": [
        "%%capture out\n",
        "# run training script\n",
        "# 37262d20054e8dbf092705158103cd02e31691d6\n",
        "%cd /content/\n",
        "!mkdir wandb\n",
        "%cd /content/dl-lab-21w-team08/\n",
        "if user == \"stuttgartteam8\":\n",
        "    !wandb login 37262d20054e8dbf092705158103cd02e31691d6\n",
        "elif \"david\":\n",
        "    !wandb login 37262d20054e8dbf092705158103cd02e31691d6\n",
        "elif user == \"nick\":\n",
        "    !wandb login abc\n",
        "if sweep:\n",
        "    configure_sweep = f\"wandb sweep {sweep_file}\"\n",
        "    !$configure_sweep"
      ]
    },
    {
      "cell_type": "code",
      "execution_count": 7,
      "metadata": {
        "id": "nOMADvKaG7h9"
      },
      "outputs": [],
      "source": [
        "if sweep == 0:\n",
        "    !python main.py -p=\"/content/IDRID_dataset/\" --train=True --epochs=20 --log_wandb=\"online\""
      ]
    },
    {
      "cell_type": "code",
      "execution_count": null,
      "metadata": {
        "colab": {
          "base_uri": "https://localhost:8080/"
        },
        "id": "6moBWqeNjNWn",
        "outputId": "0ecf5855-df94-4c9d-fc1d-c2067b6adff6"
      },
      "outputs": [
        {
          "name": "stdout",
          "output_type": "stream",
          "text": [
            "wandb agent davidu/diabetic_retinopathy/jlwwq9q0\n",
            "\u001b[34m\u001b[1mwandb\u001b[0m: Starting wandb agent 🕵️\n",
            "2021-12-13 14:46:32,386 - wandb.wandb_agent - INFO - Running runs: []\n",
            "2021-12-13 14:46:32,626 - wandb.wandb_agent - INFO - Agent received command: run\n",
            "2021-12-13 14:46:32,626 - wandb.wandb_agent - INFO - Agent starting run with config:\n",
            "\tarchitecture: resnet50\n",
            "\taugment_crop: 400\n",
            "\tbalancing: True\n",
            "\tbatch_size: 16\n",
            "\tdata_dir: /content/IDRID_dataset/\n",
            "\tdense0: 256\n",
            "\tdense1: 64\n",
            "\tdense2: 64\n",
            "\tdense_prep: gap\n",
            "\tdropout: 0.1\n",
            "\tepochs: 50\n",
            "\tfine_tuning: False\n",
            "\tfine_tuning_epochs: 5\n",
            "\tfine_tuning_learning_rate: 0.001\n",
            "\timg_width: 512\n",
            "\tinput_shape: [224, 224, 3]\n",
            "\tlearning_rate: 0.001\n",
            "\tlearning_rate_decay: 10\n",
            "\tn_classes: 5\n",
            "\toptimizer: adam\n",
            "\treg_lambda: 0.01\n",
            "\tval_split: 0.8\n",
            "\tw_init_HeNormal: True\n",
            "2021-12-13 14:46:32,630 - wandb.wandb_agent - INFO - About to run command: /usr/bin/env python main.py --log_wandb=online\n",
            "\u001b[34m\u001b[1mwandb\u001b[0m: Currently logged in as: \u001b[33mdavidu\u001b[0m (use `wandb login --relogin` to force relogin)\n",
            "\u001b[34m\u001b[1mwandb\u001b[0m: \u001b[33mWARNING\u001b[0m Ignored wandb.init() arg project when running a sweep\n",
            "\u001b[34m\u001b[1mwandb\u001b[0m: \u001b[33mWARNING\u001b[0m Ignored wandb.init() arg entity when running a sweep\n",
            "2021-12-13 14:46:37,640 - wandb.wandb_agent - INFO - Running runs: ['phbvck6y']\n",
            "\u001b[34m\u001b[1mwandb\u001b[0m: Tracking run with wandb version 0.12.7\n",
            "\u001b[34m\u001b[1mwandb\u001b[0m: Syncing run \u001b[33mlaced-sweep-1\u001b[0m\n",
            "\u001b[34m\u001b[1mwandb\u001b[0m: ⭐️ View project at \u001b[34m\u001b[4mhttps://wandb.ai/davidu/diabetic_retinopathy\u001b[0m\n",
            "\u001b[34m\u001b[1mwandb\u001b[0m: 🧹 View sweep at \u001b[34m\u001b[4mhttps://wandb.ai/davidu/diabetic_retinopathy/sweeps/jlwwq9q0\u001b[0m\n",
            "\u001b[34m\u001b[1mwandb\u001b[0m: 🚀 View run at \u001b[34m\u001b[4mhttps://wandb.ai/davidu/diabetic_retinopathy/runs/phbvck6y\u001b[0m\n",
            "\u001b[34m\u001b[1mwandb\u001b[0m: Run data is saved locally in /content/dl-lab-21w-team08/wandb/run-20211213_144636-phbvck6y\n",
            "\u001b[34m\u001b[1mwandb\u001b[0m: Run `wandb offline` to turn off syncing.\n",
            "\n",
            "2021-12-13 14:46:41.804383: W tensorflow/core/common_runtime/gpu/gpu_bfc_allocator.cc:39] Overriding allow_growth setting because the TF_FORCE_GPU_ALLOW_GROWTH environment variable is set. Original config value was 0.\n",
            "Running in multiclass classification mode!\n",
            "Running in multiclass classification mode!\n",
            "Running in multiclass classification mode!\n",
            "Downloading data from https://storage.googleapis.com/tensorflow/keras-applications/resnet/resnet50_weights_tf_dim_ordering_tf_kernels_notop.h5\n",
            "94773248/94765736 [==============================] - 1s 0us/step\n",
            "94781440/94765736 [==============================] - 1s 0us/step\n",
            "Epoch 1/50\n",
            "/usr/local/lib/python3.7/dist-packages/keras/engine/functional.py:1410: CustomMaskWarning: Custom mask layers require a config and must override get_config. When loading, the custom mask layer must be passed to the custom_objects argument.\n",
            "  layer_config = serialize_layer_fn(layer)\n",
            "20/20 - 13s - loss: 8.4872 - accuracy: 0.3906 - val_loss: 7.0512 - val_accuracy: 0.5375 - lr: 0.0010 - 13s/epoch - 651ms/step\n",
            "Epoch 2/50\n",
            "20/20 - 7s - loss: 6.5969 - accuracy: 0.4531 - val_loss: 5.8276 - val_accuracy: 0.5125 - lr: 9.5410e-04 - 7s/epoch - 360ms/step\n",
            "Epoch 3/50\n",
            "20/20 - 7s - loss: 5.3996 - accuracy: 0.5594 - val_loss: 4.9233 - val_accuracy: 0.5250 - lr: 9.1030e-04 - 7s/epoch - 352ms/step\n",
            "Epoch 4/50\n",
            "20/20 - 7s - loss: 4.6862 - accuracy: 0.5406 - val_loss: 4.3158 - val_accuracy: 0.5625 - lr: 8.6851e-04 - 7s/epoch - 344ms/step\n",
            "Epoch 5/50\n",
            "20/20 - 7s - loss: 4.2192 - accuracy: 0.5406 - val_loss: 3.9910 - val_accuracy: 0.5000 - lr: 8.2864e-04 - 7s/epoch - 349ms/step\n",
            "Epoch 6/50\n",
            "20/20 - 7s - loss: 3.8516 - accuracy: 0.5375 - val_loss: 3.6622 - val_accuracy: 0.4875 - lr: 7.9060e-04 - 7s/epoch - 363ms/step\n",
            "Epoch 7/50\n",
            "20/20 - 7s - loss: 3.4915 - accuracy: 0.6156 - val_loss: 3.4551 - val_accuracy: 0.4625 - lr: 7.5431e-04 - 7s/epoch - 349ms/step\n",
            "Epoch 8/50\n",
            "20/20 - 7s - loss: 3.2824 - accuracy: 0.5938 - val_loss: 3.2233 - val_accuracy: 0.5000 - lr: 7.1969e-04 - 7s/epoch - 363ms/step\n",
            "Epoch 9/50\n",
            "20/20 - 7s - loss: 3.1309 - accuracy: 0.6062 - val_loss: 3.0522 - val_accuracy: 0.5500 - lr: 6.8665e-04 - 7s/epoch - 349ms/step\n",
            "Epoch 10/50\n",
            "20/20 - 7s - loss: 2.9372 - accuracy: 0.6094 - val_loss: 2.9804 - val_accuracy: 0.4625 - lr: 6.5513e-04 - 7s/epoch - 349ms/step\n",
            "Epoch 11/50\n",
            "20/20 - 7s - loss: 2.7381 - accuracy: 0.6469 - val_loss: 2.9262 - val_accuracy: 0.5125 - lr: 6.2506e-04 - 7s/epoch - 368ms/step\n",
            "Epoch 12/50\n",
            "20/20 - 7s - loss: 2.6487 - accuracy: 0.6219 - val_loss: 2.8495 - val_accuracy: 0.4625 - lr: 5.9636e-04 - 7s/epoch - 345ms/step\n",
            "Epoch 13/50\n",
            "20/20 - 7s - loss: 2.6646 - accuracy: 0.5906 - val_loss: 2.6495 - val_accuracy: 0.5250 - lr: 5.6899e-04 - 7s/epoch - 361ms/step\n",
            "Epoch 14/50\n",
            "20/20 - 7s - loss: 2.4792 - accuracy: 0.6594 - val_loss: 2.6203 - val_accuracy: 0.4750 - lr: 5.4287e-04 - 7s/epoch - 341ms/step\n",
            "Epoch 15/50\n",
            "20/20 - 6s - loss: 2.3508 - accuracy: 0.6281 - val_loss: 2.6536 - val_accuracy: 0.4750 - lr: 5.1795e-04 - 6s/epoch - 303ms/step\n",
            "Epoch 16/50\n",
            "20/20 - 7s - loss: 2.2798 - accuracy: 0.6625 - val_loss: 2.4948 - val_accuracy: 0.5250 - lr: 4.9417e-04 - 7s/epoch - 337ms/step\n",
            "Epoch 17/50\n",
            "20/20 - 6s - loss: 2.2117 - accuracy: 0.6938 - val_loss: 2.5068 - val_accuracy: 0.5125 - lr: 4.7149e-04 - 6s/epoch - 315ms/step\n",
            "Epoch 18/50\n"
          ]
        }
      ],
      "source": [
        "if sweep:\n",
        "    command = out.stdout[out.stdout.find(\"Run sweep agent with: \\x1b[33m\") + 27 : -5]\n",
        "    print(command)\n",
        "    !$command"
      ]
    }
  ],
  "metadata": {
    "accelerator": "GPU",
    "colab": {
      "collapsed_sections": [],
      "name": "Diabetic_Retinopathy_Detection_Colab.ipynb",
      "provenance": []
    },
    "kernelspec": {
      "display_name": "Python 3.9.9 64-bit ('base39': venv)",
      "name": "python399jvsc74a57bd0d8d4156b2787bd13e2c930d9b973ab02563bf303cb6ce4e5b490ed11c7aabca6"
    },
    "language_info": {
      "name": "python",
      "version": ""
    }
  },
  "nbformat": 4,
  "nbformat_minor": 0
}
