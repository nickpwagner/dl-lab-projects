{
  "cells": [
    {
      "cell_type": "markdown",
      "metadata": {
        "id": "DcVwtt6Izn1P"
      },
      "source": [
        "[![Open In Colab](https://colab.research.google.com/assets/colab-badge.svg)](https://github.tik.uni-stuttgart.de/iss/dl-lab-21w-team08/blob/7919ab59198be104e465f6a7f4c8fd227c91b5f9/Diabetic_Retinopathy_Detection_Colab.ipynb)\n",
        "\n"
      ]
    },
    {
      "cell_type": "markdown",
      "metadata": {
        "id": "BU6NpCV8HK6_"
      },
      "source": [
        "## Diabetic Retinopathy Detection - Training Script\n",
        "\n",
        "Downloads the specified branch of the repo from the github and can run the training or even a full parameter sweep."
      ]
    },
    {
      "cell_type": "code",
      "execution_count": null,
      "metadata": {
        "id": "hOKdDBKNZzsy"
      },
      "outputs": [],
      "source": [
        "#@title Select your options\n",
        "\n",
        "user = \"stuttgartteam8\" #@param [\"stuttgartteam8\", \"david\", \"nick\"]\n",
        "branch_name = \"GBR_starfish_detection\"    #@param {type:\"string\"}\n",
        "\n",
        "sweep = True #@param {type:\"boolean\"}\n",
        "sweep_file = \"sweep.yaml\" #@param {type:\"string\"}"
      ]
    },
    {
      "cell_type": "code",
      "execution_count": null,
      "metadata": {
        "id": "Mn_otFyluR2P"
      },
      "outputs": [],
      "source": [
        "!nvidia-smi"
      ]
    },
    {
      "cell_type": "code",
      "execution_count": null,
      "metadata": {
        "id": "5W1kSkTxFoGV"
      },
      "outputs": [],
      "source": [
        "# download datasets and unzip them\n",
        "%%capture\n",
        "%cd /content/\n",
        "# 600x600 normal\n",
        "!gdown https://drive.google.com/uc?id=1TjyYDws_yFafhVtq2r5itv9SU1EnmXjg\n",
        "!unzip -u \"/content/IDRID_dataset_600x600.zip\" -d \"/content/\";\n",
        "\n",
        "# 600x600 Graham\n",
        "!gdown https://drive.google.com/uc?id=1l5TIieAtew7n7BMlzLLISRpvX2WL5nFK\n",
        "!unzip -u \"/content/IDRID_dataset_graham.zip\" -d \"/content/\";\n",
        "!mkdir /content/IDRID_dataset_graham/labels/\n",
        "!cp /content/IDRID_dataset/labels/train.csv /content/IDRID_dataset_graham/labels/\n",
        "!cp /content/IDRID_dataset/labels/test.csv /content/IDRID_dataset_graham/labels/"
      ]
    },
    {
      "cell_type": "code",
      "execution_count": null,
      "metadata": {
        "id": "57_0u9-gqtmS"
      },
      "outputs": [],
      "source": [
        "# delete existing repo to ensure the newest is fetched from github \n",
        "% cd /\n",
        "!rm -r /content/dl-lab-21w-team08\n",
        "\n",
        "# download repo\n",
        "# %%capture\n",
        "%cd /content/\n",
        "#if user == \"david\":\n",
        "git_access_token = \"28fdd19659f4a0e5bcaf16dd820e5c68bed91102\"\n",
        "\n",
        "# !git clone https://28fdd19659f4a0e5bcaf16dd820e5c68bed91102@github.tik.uni-stuttgart.de/iss/dl-lab-21w-team08.git\n",
        "clone_comand = f\"git clone --single-branch --branch {branch_name} https://{git_access_token}@github.tik.uni-stuttgart.de/iss/dl-lab-21w-team08.git\"\n",
        "!$clone_comand"
      ]
    },
    {
      "cell_type": "code",
      "execution_count": null,
      "metadata": {
        "id": "MhkqzL-wFwpF"
      },
      "outputs": [],
      "source": [
        "# install dependencies\n",
        "%%capture\n",
        "!pip install wandb\n",
        "!pip install tensorflow_addons\n",
        "#!pip install gin-config"
      ]
    },
    {
      "cell_type": "code",
      "execution_count": null,
      "metadata": {
        "id": "zu4k_1duC-DT"
      },
      "outputs": [],
      "source": [
        "%%capture out\n",
        "# run training script\n",
        "# 37262d20054e8dbf092705158103cd02e31691d6\n",
        "%cd /content/\n",
        "!mkdir wandb\n",
        "%cd /content/dl-lab-21w-team08/diabetic_retinopathy_detection/\n",
        "if user == \"stuttgartteam8\":\n",
        "    !wandb login 37262d20054e8dbf092705158103cd02e31691d6\n",
        "elif \"david\":\n",
        "    !wandb login 37262d20054e8dbf092705158103cd02e31691d6\n",
        "elif user == \"nick\":\n",
        "    !wandb login abc\n",
        "if sweep:\n",
        "    configure_sweep = f\"wandb sweep {sweep_file}\"\n",
        "    !$configure_sweep"
      ]
    },
    {
      "cell_type": "code",
      "execution_count": null,
      "metadata": {
        "id": "nOMADvKaG7h9"
      },
      "outputs": [],
      "source": [
        "if sweep == False:\n",
        "    !python main.py --train=True --epochs=20 --log_wandb=\"online\""
      ]
    },
    {
      "cell_type": "code",
      "execution_count": null,
      "metadata": {
        "id": "6moBWqeNjNWn"
      },
      "outputs": [],
      "source": [
        "if sweep:\n",
        "    command = out.stdout[out.stdout.find(\"Run sweep agent with: \\x1b[33m\") + 27 : -5]\n",
        "    print(command)\n",
        "    !$command"
      ]
    }
  ],
  "metadata": {
    "accelerator": "GPU",
    "colab": {
      "collapsed_sections": [],
      "name": "Diabetic_Retinopathy_Detection_Colab.ipynb",
      "provenance": []
    },
    "kernelspec": {
      "display_name": "Python 3.9.9 64-bit ('base39': venv)",
      "name": "python399jvsc74a57bd0d8d4156b2787bd13e2c930d9b973ab02563bf303cb6ce4e5b490ed11c7aabca6"
    },
    "language_info": {
      "name": "python",
      "version": ""
    }
  },
  "nbformat": 4,
  "nbformat_minor": 0
}
