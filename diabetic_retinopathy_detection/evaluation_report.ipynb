{
 "cells": [
  {
   "cell_type": "code",
   "execution_count": 5,
   "metadata": {},
   "outputs": [],
   "source": [
    "import tensorflow as tf\n",
    "import wandb\n",
    "import matplotlib.pyplot as plt\n",
    "import time\n",
    "import os\n",
    "\n",
    "from input import load\n",
    "from evaluation import evaluate_multiclass"
   ]
  },
  {
   "cell_type": "code",
   "execution_count": 7,
   "metadata": {},
   "outputs": [
    {
     "name": "stdout",
     "output_type": "stream",
     "text": [
      "Running in multiclass classification mode!\n",
      "Running in multiclass classification mode!\n",
      "Running in multiclass classification mode!\n",
      "Using model from local .h5 file\n",
      "Model: \"multi_class_resnet50\"\n",
      "_________________________________________________________________\n",
      " Layer (type)                Output Shape              Param #   \n",
      "=================================================================\n",
      " input_2 (InputLayer)        [(None, 224, 224, 3)]     0         \n",
      "                                                                 \n",
      " tf.cast (TFOpLambda)        (None, 224, 224, 3)       0         \n",
      "                                                                 \n",
      " tf.__operators__.getitem (S  (None, 224, 224, 3)      0         \n",
      " licingOpLambda)                                                 \n",
      "                                                                 \n",
      " tf.nn.bias_add (TFOpLambda)  (None, 224, 224, 3)      0         \n",
      "                                                                 \n",
      " resnet50 (Functional)       (None, 7, 7, 2048)        23587712  \n",
      "                                                                 \n",
      " global_average_pooling2d (G  (None, 2048)             0         \n",
      " lobalAveragePooling2D)                                          \n",
      "                                                                 \n",
      " dense (Dense)               (None, 4096)              8392704   \n",
      "                                                                 \n",
      " dropout (Dropout)           (None, 4096)              0         \n",
      "                                                                 \n",
      " dense_1 (Dense)             (None, 512)               2097664   \n",
      "                                                                 \n",
      " dropout_1 (Dropout)         (None, 512)               0         \n",
      "                                                                 \n",
      " dense_2 (Dense)             (None, 5)                 2565      \n",
      "                                                                 \n",
      "=================================================================\n",
      "Total params: 34,080,645\n",
      "Trainable params: 10,492,933\n",
      "Non-trainable params: 23,587,712\n",
      "_________________________________________________________________\n",
      "None\n"
     ]
    }
   ],
   "source": [
    "wandb.init(project=\"diabetic_retinopathy\", entity=\"stuttgartteam8\", mode=\"disabled\") \n",
    "config = wandb.config\n",
    "\n",
    "\n",
    "ds_train, ds_val, ds_test = load(config)\n",
    "\n",
    "model_filename = \"_\".join(config.evaluate_run.split(\"/\")) + \".h5\"\n",
    "\n",
    "# check if weights file was already downloaded before\n",
    "if os.path.isfile(model_filename):\n",
    "    print(\"Using model from local .h5 file\")\n",
    "else:\n",
    "    print(\"Download model from wandb\")\n",
    "    api = wandb.Api()\n",
    "    run = api.run(config.evaluate_run)\n",
    "    run.file(\"model.h5\").download(replace=True)\n",
    "    time.sleep(1)\n",
    "    os.rename(\"model.h5\", model_filename)\n",
    "\n",
    "\n",
    "model = tf.keras.models.load_model(model_filename, compile=False)\n",
    "print(model.summary())\n"
   ]
  },
  {
   "cell_type": "code",
   "execution_count": 8,
   "metadata": {},
   "outputs": [
    {
     "name": "stdout",
     "output_type": "stream",
     "text": [
      "--- Validation Scores ---\n",
      "Accuracy: 0.575\n",
      "Precision: 0.4685465838509317\n",
      "Recall: 0.4352450980392156\n",
      "f1-Score: 0.45128232071718855\n",
      "Confusion-Matrix: \n",
      "[[22  1  1  1  0]\n",
      " [ 5  0  0  0  0]\n",
      " [ 7  1  9  2  4]\n",
      " [ 0  0  6 12  3]\n",
      " [ 0  0  0  3  3]]\n",
      "Quadratic WeightedKappa: 0.4254330376003379\n",
      "--- Test Scores ---\n",
      "Accuracy: 0.5833333333333334\n",
      "Precision: 0.4740458426772468\n",
      "Recall: 0.470954535660418\n",
      "f1-Score: 0.47249513299145335\n",
      "Confusion-Matrix: \n",
      "[[27  2  2  0  1]\n",
      " [ 3  0  2  0  0]\n",
      " [ 7  1 14  3  6]\n",
      " [ 2  0  2  9  4]\n",
      " [ 3  0  1  1  6]]\n",
      "Quadratic WeightedKappa: 0.43512797881729925\n"
     ]
    }
   ],
   "source": [
    "\n",
    "print(\"--- Validation Scores ---\")\n",
    "acc, p, r, f1, confm, quadratic_weighted_kappa = evaluate_multiclass(config, model, ds_val)\n",
    "print(f\"Accuracy: {acc}\")\n",
    "print(f\"Precision: {p}\")\n",
    "print(f\"Recall: {r}\")\n",
    "print(f\"f1-Score: {f1}\")\n",
    "print(f\"Confusion-Matrix: \\n{confm}\")\n",
    "print(f\"Quadratic WeightedKappa: {quadratic_weighted_kappa}\")\n",
    "\n",
    "print(\"--- Test Scores ---\")\n",
    "acc, p, r, f1, confm, quadratic_weighted_kappa = evaluate_multiclass(config, model, ds_test)\n",
    "print(f\"Accuracy: {acc}\")\n",
    "print(f\"Precision: {p}\")\n",
    "print(f\"Recall: {r}\")\n",
    "print(f\"f1-Score: {f1}\")\n",
    "print(f\"Confusion-Matrix: \\n{confm}\")\n",
    "print(f\"Quadratic WeightedKappa: {quadratic_weighted_kappa}\")"
   ]
  }
 ],
 "metadata": {
  "interpreter": {
   "hash": "e2e258f439f8cce8ebca303549ef604d20ee76ac4161338bf3ea1813368e85ef"
  },
  "kernelspec": {
   "display_name": "Python 3.9.7 64-bit ('tf39_DL-lab': conda)",
   "language": "python",
   "name": "python3"
  },
  "language_info": {
   "codemirror_mode": {
    "name": "ipython",
    "version": 3
   },
   "file_extension": ".py",
   "mimetype": "text/x-python",
   "name": "python",
   "nbconvert_exporter": "python",
   "pygments_lexer": "ipython3",
   "version": "3.9.10"
  },
  "orig_nbformat": 4
 },
 "nbformat": 4,
 "nbformat_minor": 2
}
