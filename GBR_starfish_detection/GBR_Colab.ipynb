{
  "cells": [
    {
      "cell_type": "markdown",
      "metadata": {
        "id": "BU6NpCV8HK6_"
      },
      "source": [
        "## Great Barrier Reef - Training Script\n",
        "\n",
        "Downloads the specified branch of the repo from the github and can run the training or even a full parameter sweep."
      ]
    },
    {
      "cell_type": "code",
      "execution_count": 21,
      "metadata": {
        "id": "hOKdDBKNZzsy"
      },
      "outputs": [],
      "source": [
        "#@title Select your options\n",
        "mode = \"train\"    #@param [\"train\", \"evaluate\"]\n",
        "branch_name = \"GBR_starfish_detection\"    #@param {type:\"string\"}\n",
        "wandb_model = \"stuttgartteam8/protect_gbr/2pjrq56n\"    #@param [\"New\", \"stuttgartteam8/protect_gbr/2pjrq56n\"]\n",
        "full_dataset = True    #@param {type:\"boolean\"}"
      ]
    },
    {
      "cell_type": "code",
      "execution_count": 2,
      "metadata": {
        "colab": {
          "base_uri": "https://localhost:8080/"
        },
        "id": "Mn_otFyluR2P",
        "outputId": "2a64f07e-f4ad-485f-bb11-0dce50e37cfa"
      },
      "outputs": [
        {
          "name": "stdout",
          "output_type": "stream",
          "text": [
            "Wed Dec 29 20:56:55 2021       \n",
            "+-----------------------------------------------------------------------------+\n",
            "| NVIDIA-SMI 495.44       Driver Version: 460.32.03    CUDA Version: 11.2     |\n",
            "|-------------------------------+----------------------+----------------------+\n",
            "| GPU  Name        Persistence-M| Bus-Id        Disp.A | Volatile Uncorr. ECC |\n",
            "| Fan  Temp  Perf  Pwr:Usage/Cap|         Memory-Usage | GPU-Util  Compute M. |\n",
            "|                               |                      |               MIG M. |\n",
            "|===============================+======================+======================|\n",
            "|   0  Tesla P100-PCIE...  Off  | 00000000:00:04.0 Off |                    0 |\n",
            "| N/A   35C    P0    27W / 250W |      0MiB / 16280MiB |      0%      Default |\n",
            "|                               |                      |                  N/A |\n",
            "+-------------------------------+----------------------+----------------------+\n",
            "                                                                               \n",
            "+-----------------------------------------------------------------------------+\n",
            "| Processes:                                                                  |\n",
            "|  GPU   GI   CI        PID   Type   Process name                  GPU Memory |\n",
            "|        ID   ID                                                   Usage      |\n",
            "|=============================================================================|\n",
            "|  No running processes found                                                 |\n",
            "+-----------------------------------------------------------------------------+\n"
          ]
        }
      ],
      "source": [
        "!nvidia-smi"
      ]
    },
    {
      "cell_type": "code",
      "execution_count": null,
      "metadata": {
        "id": "5W1kSkTxFoGV"
      },
      "outputs": [],
      "source": [
        "# download dataset\n",
        "#%%capture\n",
        "%cd /content/\n",
        "# images 0-478 (part of whole data set)\n",
        "if full_dataset:\n",
        "    !gdown https://drive.google.com/uc?id=1DW2CJja9n8d0Bub-jmJZvnKXAHrpYLkv\n",
        "    !unzip -u \"/content/GBR_dataset.zip\" -d \"/content/\";\n",
        "else:\n",
        "    !gdown https://drive.google.com/uc?id=1nVROGC31eVwThW7xYUM8zuxlmQVgC9xr\n",
        "    !unzip -u \"/content/GBR_dataset_partial.zip\" -d \"/content/\";"
      ]
    },
    {
      "cell_type": "code",
      "execution_count": 28,
      "metadata": {
        "colab": {
          "base_uri": "https://localhost:8080/"
        },
        "id": "57_0u9-gqtmS",
        "outputId": "f14cc2a2-4eac-432c-b5c0-acec2e4e41b3"
      },
      "outputs": [
        {
          "name": "stdout",
          "output_type": "stream",
          "text": [
            "/\n",
            "/content\n",
            "Cloning into 'dl-lab-21w-team08'...\n",
            "remote: Enumerating objects: 90, done.\u001b[K\n",
            "remote: Counting objects: 100% (90/90), done.\u001b[K\n",
            "remote: Compressing objects: 100% (62/62), done.\u001b[K\n",
            "remote: Total 377 (delta 64), reused 53 (delta 28), pack-reused 287\u001b[K\n",
            "Receiving objects: 100% (377/377), 6.37 MiB | 5.37 MiB/s, done.\n",
            "Resolving deltas: 100% (233/233), done.\n"
          ]
        }
      ],
      "source": [
        "# delete existing repo to ensure the newest is fetched from github \n",
        "% cd /\n",
        "!rm -r /content/dl-lab-21w-team08\n",
        "\n",
        "# download repo\n",
        "# %%capture\n",
        "%cd /content/\n",
        "git_access_token = \"28fdd19659f4a0e5bcaf16dd820e5c68bed91102\"\n",
        "\n",
        "# !git clone https://28fdd19659f4a0e5bcaf16dd820e5c68bed91102@github.tik.uni-stuttgart.de/iss/dl-lab-21w-team08.git\n",
        "clone_comand = f\"git clone --single-branch --branch {branch_name} https://{git_access_token}@github.tik.uni-stuttgart.de/iss/dl-lab-21w-team08.git\"\n",
        "!$clone_comand"
      ]
    },
    {
      "cell_type": "code",
      "execution_count": 6,
      "metadata": {
        "id": "MhkqzL-wFwpF"
      },
      "outputs": [],
      "source": [
        "# install dependencies\n",
        "%%capture\n",
        "!pip install wandb\n",
        "!pip install tensorflow_addons\n",
        "#!pip install gin-config"
      ]
    },
    {
      "cell_type": "code",
      "execution_count": 29,
      "metadata": {
        "id": "zu4k_1duC-DT"
      },
      "outputs": [],
      "source": [
        "%%capture out\n",
        "# run training script\n",
        "# 37262d20054e8dbf092705158103cd02e31691d6\n",
        "%cd /content/\n",
        "!mkdir wandb\n",
        "%cd /content/dl-lab-21w-team08/GBR_starfish_detection/\n",
        "\n",
        "!wandb login 37262d20054e8dbf092705158103cd02e31691d6"
      ]
    },
    {
      "cell_type": "code",
      "execution_count": null,
      "metadata": {
        "colab": {
          "base_uri": "https://localhost:8080/"
        },
        "id": "nOMADvKaG7h9",
        "outputId": "44b44b8d-b078-4837-ced9-1ee1ddc4796d"
      },
      "outputs": [],
      "source": [
        "# training\n",
        "\n",
        "if mode == \"train\":\n",
        "    # pass dataset path and the wandb model which is used as starting point for training\n",
        "    if full_dataset:\n",
        "        !python main.py -p=\"/content/GBR_dataset/\" --wandb_model=wandb_model\n",
        "    else:\n",
        "        !python main.py -p=\"/content/GBR_dataset_partial/\" --wandb_model=wandb_model"
      ]
    },
    {
      "cell_type": "code",
      "execution_count": 35,
      "metadata": {
        "colab": {
          "base_uri": "https://localhost:8080/"
        },
        "id": "EtewEwoFuQct",
        "outputId": "8fdb6f1e-2dad-4569-f287-487fa5e390c4"
      },
      "outputs": [
        {
          "name": "stdout",
          "output_type": "stream",
          "text": [
            "/content/dl-lab-21w-team08/GBR_starfish_detection\n",
            "   video_id  sequence  video_frame  sequence_frame image_id annotations\n",
            "0         0     40258            0               0      0-0          []\n",
            "1         0     40258            1               1      0-1          []\n",
            "2         0     40258            2               2      0-2          []\n",
            "3         0     40258            3               3      0-3          []\n",
            "4         0     40258            4               4      0-4          []\n",
            "Download model:\n",
            "Load model:\n",
            "Model: \"yolo\"\n",
            "_________________________________________________________________\n",
            " Layer (type)                Output Shape              Param #   \n",
            "=================================================================\n",
            " input_2 (InputLayer)        [(None, 448, 448, 3)]     0         \n",
            "                                                                 \n",
            " tf.cast (TFOpLambda)        (None, 448, 448, 3)       0         \n",
            "                                                                 \n",
            " tf.__operators__.getitem (S  (None, 448, 448, 3)      0         \n",
            " licingOpLambda)                                                 \n",
            "                                                                 \n",
            " tf.nn.bias_add (TFOpLambda)  (None, 448, 448, 3)      0         \n",
            "                                                                 \n",
            " resnet50 (Functional)       (None, 14, 14, 2048)      23587712  \n",
            "                                                                 \n",
            " conv2d (Conv2D)             (None, 7, 7, 2048)        37750784  \n",
            "                                                                 \n",
            " conv2d_1 (Conv2D)           (None, 7, 7, 5)           10245     \n",
            "                                                                 \n",
            "=================================================================\n",
            "Total params: 61,348,741\n",
            "Trainable params: 38,815,749\n",
            "Non-trainable params: 22,532,992\n",
            "_________________________________________________________________\n",
            "None\n"
          ]
        }
      ],
      "source": [
        "# model evaluation\n",
        "\n",
        "%cd /content/dl-lab-21w-team08/GBR_starfish_detection/\n",
        "import wandb\n",
        "import tensorflow as tf\n",
        "from input import load, annotate_image\n",
        "\n",
        "wandb.init(project=\"protect_gbr\", entity=\"stuttgartteam8\", mode=\"disabled\") \n",
        "if full_dataset:\n",
        "    arg_update = {\"data_dir\": \"/content/GBR_dataset/\"}\n",
        "else:\n",
        "    arg_update = {\"data_dir\": \"/content/GBR_dataset_partial/\"}\n",
        "wandb.config.update(arg_update, allow_val_change=True)\n",
        "config = wandb.config\n",
        "\n",
        "\n",
        "ds_train, ds_val, ds_test = load(config)\n",
        "\n",
        "\n",
        "if mode == \"evaluate\":\n",
        "    # download the model from wandb\n",
        "    print(\"Download model:\")\n",
        "    api = wandb.Api()\n",
        "    run = api.run(\"stuttgartteam8/protect_gbr/1khez299\")\n",
        "    run.file(\"model.h5\").download(replace=True)\n",
        "\n",
        "    print(\"Load model:\")\n",
        "    model = tf.keras.models.load_model('model.h5', compile=False) \n",
        "    print(model.summary())\n",
        "\n",
        "else:\n",
        "    # use the model from this training session and evaluate it\n",
        "    model = tf.keras.models.load_model('model.h5', compile=False) # todo: the path for the model needs to be adapted!"
      ]
    },
    {
      "cell_type": "code",
      "execution_count": null,
      "metadata": {
        "id": "gnkwVJl5_mEX"
      },
      "outputs": [],
      "source": [
        "\n",
        "import tensorflow.keras as keras\n",
        "from google.colab.patches import cv2_imshow\n",
        "import matplotlib.pyplot as plt\n",
        "import cv2\n",
        "\n",
        "for x,y in ds_train:\n",
        "    y_pred = model.predict(x)\n",
        "    img = annotate_image(config, x[0], y_pred[0], y[0])\n",
        "    img = img.numpy()*255\n",
        "    img = cv2.cvtColor(img, cv2.COLOR_RGB2BGR)\n",
        "    cv2_imshow(img)"
      ]
    }
  ],
  "metadata": {
    "accelerator": "GPU",
    "colab": {
      "collapsed_sections": [],
      "name": "GBR_Colab.ipynb",
      "provenance": []
    },
    "kernelspec": {
      "display_name": "Python 3.9.9 64-bit ('base39': venv)",
      "name": "python399jvsc74a57bd0d8d4156b2787bd13e2c930d9b973ab02563bf303cb6ce4e5b490ed11c7aabca6"
    },
    "language_info": {
      "name": "python",
      "version": ""
    }
  },
  "nbformat": 4,
  "nbformat_minor": 0
}
