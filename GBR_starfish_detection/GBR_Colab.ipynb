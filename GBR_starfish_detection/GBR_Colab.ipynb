{
  "cells": [
    {
      "cell_type": "markdown",
      "metadata": {
        "id": "BU6NpCV8HK6_"
      },
      "source": [
        "## Great Barrier Reef - Training Script\n",
        "\n",
        "Downloads the specified branch of the repo from the github and can run the training or even a full parameter sweep."
      ]
    },
    {
      "cell_type": "code",
      "execution_count": 1,
      "metadata": {
        "id": "hOKdDBKNZzsy"
      },
      "outputs": [],
      "source": [
        "#@title Select your options\n",
        "mode = \"train\"    #@param [\"train\", \"evaluate\"]\n",
        "branch_name = \"GBR_starfish_detection\"    #@param {type:\"string\"}\n",
        "wandb_model = \"stuttgartteam8/protect_gbr/2pjrq56n\"    #@param [\"New\", \"stuttgartteam8/protect_gbr/2pjrq56n\"]\n",
        "full_dataset = True    #@param {type:\"boolean\"}"
      ]
    },
    {
      "cell_type": "code",
      "execution_count": 2,
      "metadata": {
        "colab": {
          "base_uri": "https://localhost:8080/"
        },
        "id": "Mn_otFyluR2P",
        "outputId": "13ea7ab5-f488-47a0-edcf-a74fa8c67d46"
      },
      "outputs": [
        {
          "name": "stdout",
          "output_type": "stream",
          "text": [
            "Wed Jan  5 14:35:46 2022       \n",
            "+-----------------------------------------------------------------------------+\n",
            "| NVIDIA-SMI 495.44       Driver Version: 460.32.03    CUDA Version: 11.2     |\n",
            "|-------------------------------+----------------------+----------------------+\n",
            "| GPU  Name        Persistence-M| Bus-Id        Disp.A | Volatile Uncorr. ECC |\n",
            "| Fan  Temp  Perf  Pwr:Usage/Cap|         Memory-Usage | GPU-Util  Compute M. |\n",
            "|                               |                      |               MIG M. |\n",
            "|===============================+======================+======================|\n",
            "|   0  Tesla P100-PCIE...  Off  | 00000000:00:04.0 Off |                    0 |\n",
            "| N/A   44C    P0    29W / 250W |      0MiB / 16280MiB |      0%      Default |\n",
            "|                               |                      |                  N/A |\n",
            "+-------------------------------+----------------------+----------------------+\n",
            "                                                                               \n",
            "+-----------------------------------------------------------------------------+\n",
            "| Processes:                                                                  |\n",
            "|  GPU   GI   CI        PID   Type   Process name                  GPU Memory |\n",
            "|        ID   ID                                                   Usage      |\n",
            "|=============================================================================|\n",
            "|  No running processes found                                                 |\n",
            "+-----------------------------------------------------------------------------+\n"
          ]
        }
      ],
      "source": [
        "!nvidia-smi"
      ]
    },
    {
      "cell_type": "code",
      "execution_count": 3,
      "metadata": {
        "colab": {
          "base_uri": "https://localhost:8080/"
        },
        "id": "5W1kSkTxFoGV",
        "outputId": "9ddd9163-268a-478c-f3c1-6f610bb0b392"
      },
      "outputs": [
        {
          "name": "stdout",
          "output_type": "stream",
          "text": [
            "/content\n",
            "Downloading...\n",
            "From: https://drive.google.com/uc?id=1DW2CJja9n8d0Bub-jmJZvnKXAHrpYLkv\n",
            "To: /content/GBR_dataset.zip\n",
            "100% 15.2G/15.2G [02:45<00:00, 91.9MB/s]\n"
          ]
        }
      ],
      "source": [
        "# download dataset\n",
        "%cd /content/\n",
        "if full_dataset:\n",
        "    !gdown https://drive.google.com/uc?id=1DW2CJja9n8d0Bub-jmJZvnKXAHrpYLkv\n",
        "else:\n",
        "    # images 0-478 (part of whole data set)\n",
        "    !gdown https://drive.google.com/uc?id=1nVROGC31eVwThW7xYUM8zuxlmQVgC9xr\n"
      ]
    },
    {
      "cell_type": "code",
      "execution_count": 4,
      "metadata": {
        "id": "f8QjnK3dpnP3"
      },
      "outputs": [],
      "source": [
        "%%capture\n",
        "# unpack dataset\n",
        "if full_dataset:\n",
        "    !unzip -u \"/content/GBR_dataset.zip\" -d \"/content/\";\n",
        "else:\n",
        "    !unzip -u \"/content/GBR_dataset_partial.zip\" -d \"/content/\";"
      ]
    },
    {
      "cell_type": "code",
      "execution_count": 5,
      "metadata": {
        "colab": {
          "base_uri": "https://localhost:8080/"
        },
        "id": "57_0u9-gqtmS",
        "outputId": "ef1679d1-42e5-4dd4-c256-1979dfe7069c"
      },
      "outputs": [
        {
          "name": "stdout",
          "output_type": "stream",
          "text": [
            "/\n",
            "/content\n",
            "Cloning into 'dl-lab-21w-team08'...\n",
            "remote: Enumerating objects: 13, done.\u001b[K\n",
            "remote: Counting objects: 100% (13/13), done.\u001b[K\n",
            "remote: Compressing objects: 100% (10/10), done.\u001b[K\n",
            "remote: Total 391 (delta 4), reused 8 (delta 3), pack-reused 378\u001b[K\n",
            "Receiving objects: 100% (391/391), 6.43 MiB | 5.12 MiB/s, done.\n",
            "Resolving deltas: 100% (246/246), done.\n"
          ]
        }
      ],
      "source": [
        "# delete existing repo to ensure the newest is fetched from github \n",
        "% cd /\n",
        "!rm -r /content/dl-lab-21w-team08\n",
        "\n",
        "# download repo\n",
        "# %%capture\n",
        "%cd /content/\n",
        "git_access_token = \"28fdd19659f4a0e5bcaf16dd820e5c68bed91102\"\n",
        "\n",
        "# !git clone https://28fdd19659f4a0e5bcaf16dd820e5c68bed91102@github.tik.uni-stuttgart.de/iss/dl-lab-21w-team08.git\n",
        "clone_comand = f\"git clone --single-branch --branch {branch_name} https://{git_access_token}@github.tik.uni-stuttgart.de/iss/dl-lab-21w-team08.git\"\n",
        "!$clone_comand"
      ]
    },
    {
      "cell_type": "code",
      "execution_count": 6,
      "metadata": {
        "id": "MhkqzL-wFwpF"
      },
      "outputs": [],
      "source": [
        "# install dependencies\n",
        "%%capture\n",
        "!pip install wandb\n",
        "!pip install tensorflow_addons\n",
        "#!pip install gin-config"
      ]
    },
    {
      "cell_type": "code",
      "execution_count": 7,
      "metadata": {
        "id": "zu4k_1duC-DT"
      },
      "outputs": [],
      "source": [
        "%%capture out\n",
        "# run training script\n",
        "# 37262d20054e8dbf092705158103cd02e31691d6\n",
        "%cd /content/\n",
        "!mkdir wandb\n",
        "%cd /content/dl-lab-21w-team08/GBR_starfish_detection/\n",
        "\n",
        "!wandb login 37262d20054e8dbf092705158103cd02e31691d6"
      ]
    },
    {
      "cell_type": "code",
      "execution_count": 8,
      "metadata": {
        "colab": {
          "base_uri": "https://localhost:8080/",
          "height": 35
        },
        "id": "lftuiGtLFwD1",
        "outputId": "a0873ff3-1df4-4620-8016-80e2510c9a90"
      },
      "outputs": [
        {
          "data": {
            "application/vnd.google.colaboratory.intrinsic+json": {
              "type": "string"
            },
            "text/plain": [
              "'stuttgartteam8/protect_gbr/2pjrq56n'"
            ]
          },
          "execution_count": 8,
          "metadata": {},
          "output_type": "execute_result"
        }
      ],
      "source": [
        "wandb_model"
      ]
    },
    {
      "cell_type": "code",
      "execution_count": null,
      "metadata": {
        "id": "nOMADvKaG7h9"
      },
      "outputs": [],
      "source": [
        "# training\n",
        "\n",
        "if mode == \"train\":\n",
        "    # pass dataset path and the wandb model which is used as starting point for training\n",
        "    if full_dataset:\n",
        "        !python main.py -p=\"/content/GBR_dataset/\" --wandb_model={wandb_model} --dataset_slice_end=23500\n",
        "    else:\n",
        "        # use only 200 images for training\n",
        "        !python main.py -p=\"/content/GBR_dataset_partial/\" --wandb_model={wandb_model} --dataset_slice_end=300"
      ]
    },
    {
      "cell_type": "code",
      "execution_count": 11,
      "metadata": {
        "colab": {
          "base_uri": "https://localhost:8080/"
        },
        "id": "EtewEwoFuQct",
        "outputId": "b9324a58-5427-4068-e661-875413b22d00"
      },
      "outputs": [
        {
          "name": "stdout",
          "output_type": "stream",
          "text": [
            "/content/dl-lab-21w-team08/GBR_starfish_detection\n",
            "   video_id  sequence  video_frame  sequence_frame image_id annotations\n",
            "0         0     40258            0               0      0-0          []\n",
            "1         0     40258            1               1      0-1          []\n",
            "2         0     40258            2               2      0-2          []\n",
            "3         0     40258            3               3      0-3          []\n",
            "4         0     40258            4               4      0-4          []\n"
          ]
        }
      ],
      "source": [
        "# model evaluation\n",
        "\n",
        "%cd /content/dl-lab-21w-team08/GBR_starfish_detection/\n",
        "import wandb\n",
        "import tensorflow as tf\n",
        "from input import load, annotate_image\n",
        "\n",
        "wandb.init(project=\"protect_gbr\", entity=\"stuttgartteam8\", mode=\"disabled\") \n",
        "if full_dataset:\n",
        "    arg_update = {\"data_dir\": \"/content/GBR_dataset/\"}\n",
        "else:\n",
        "    arg_update = {\"data_dir\": \"/content/GBR_dataset_partial/\"}\n",
        "wandb.config.update(arg_update, allow_val_change=True)\n",
        "config = wandb.config\n",
        "\n",
        "ds_train, ds_val, ds_test = load(config)\n",
        "\n",
        "if mode == \"evaluate\":\n",
        "    # download the model from wandb\n",
        "    print(\"Downloading model\")\n",
        "    api = wandb.Api()\n",
        "    run = api.run(wandb_model)\n",
        "    run.file(\"model.h5\").download(replace=True)\n",
        "\n",
        "    print(\"Loading model\")\n",
        "    model = tf.keras.models.load_model('model.h5', compile=False) \n",
        "    print(model.summary())\n",
        "\n",
        "else:\n",
        "    # use the model from this training session and evaluate it\n",
        "\n",
        "    file = \"/content/dl-lab-21w-team08/GBR_starfish_detection/wandb/latest-run/files/model.h5\"\n",
        "    model = tf.keras.models.load_model(file, compile=False) # todo: the path for the model needs to be adapted!"
      ]
    },
    {
      "cell_type": "code",
      "execution_count": null,
      "metadata": {
        "colab": {
          "base_uri": "https://localhost:8080/",
          "height": 465
        },
        "id": "gnkwVJl5_mEX",
        "outputId": "6050ec1b-be3e-470d-a8cd-8952a6b1c1c2"
      },
      "outputs": [],
      "source": [
        "\n",
        "import tensorflow.keras as keras\n",
        "from google.colab.patches import cv2_imshow\n",
        "import matplotlib.pyplot as plt\n",
        "import cv2\n",
        "\n",
        "for x,y in ds_train:\n",
        "    y_pred = model.predict(x)\n",
        "    img = annotate_image(config, x[0], y_pred[0], y[0])\n",
        "    img = img.numpy()*255\n",
        "    img = cv2.cvtColor(img, cv2.COLOR_RGB2BGR)\n",
        "    cv2_imshow(img)\n",
        "    break"
      ]
    }
  ],
  "metadata": {
    "accelerator": "GPU",
    "colab": {
      "collapsed_sections": [],
      "name": "GBR_Colab.ipynb",
      "provenance": []
    },
    "kernelspec": {
      "display_name": "Python 3.9.9 64-bit ('base39': venv)",
      "name": "python399jvsc74a57bd0d8d4156b2787bd13e2c930d9b973ab02563bf303cb6ce4e5b490ed11c7aabca6"
    },
    "language_info": {
      "name": "python",
      "version": ""
    }
  },
  "nbformat": 4,
  "nbformat_minor": 0
}
