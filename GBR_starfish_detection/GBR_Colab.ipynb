{
  "cells": [
    {
      "cell_type": "markdown",
      "metadata": {
        "id": "BU6NpCV8HK6_"
      },
      "source": [
        "## Traffic Cone Detection\n",
        "\n",
        "Downloads the specified branch of the repo from the github and can run the training."
      ]
    },
    {
      "cell_type": "code",
      "execution_count": 1,
      "metadata": {
        "id": "hOKdDBKNZzsy"
      },
      "outputs": [],
      "source": [
        "#@title Select your options\n",
        "branch_name = \"Traffic_Cone_Detection\"    #@param {type:\"string\"}\n",
        "wandb_model = \"New\"    #@param [\"New\", \"stuttgartteam8/protect_gbr/136q0aks\", \"stuttgartteam8/protect_gbr/15ysbcdo\", \"stuttgartteam8/protect_gbr/225emsat\", \"stuttgartteam8/protect_gbr/2h1ckitl\", \"stuttgartteam8/protect_gbr/29mmyvgw\", \"stuttgartteam8/protect_gbr/2pjrq56n\"]\n",
        "\n"
      ]
    },
    {
      "cell_type": "code",
      "execution_count": null,
      "metadata": {
        "colab": {
          "base_uri": "https://localhost:8080/"
        },
        "id": "Mn_otFyluR2P",
        "outputId": "854cca9a-c72a-4c0b-bb55-578ce05524f9"
      },
      "outputs": [],
      "source": [
        "!nvidia-smi"
      ]
    },
    {
      "cell_type": "code",
      "execution_count": null,
      "metadata": {},
      "outputs": [],
      "source": [
        "# delete existing repo to ensure the newest is fetched from github \n",
        "% cd /\n",
        "!rm -r /content/dl-lab-21w-team08\n",
        "\n",
        "# download repo\n",
        "# %%capture\n",
        "%cd /content/\n",
        "git_access_token = \"28fdd19659f4a0e5bcaf16dd820e5c68bed91102\"\n",
        "\n",
        "# !git clone https://28fdd19659f4a0e5bcaf16dd820e5c68bed91102@github.tik.uni-stuttgart.de/iss/dl-lab-21w-team08.git\n",
        "clone_comand = f\"git clone --single-branch --branch {branch_name} https://{git_access_token}@github.tik.uni-stuttgart.de/iss/dl-lab-21w-team08.git\"\n",
        "!$clone_comand"
      ]
    },
    {
      "cell_type": "code",
      "execution_count": null,
      "metadata": {
        "colab": {
          "base_uri": "https://localhost:8080/"
        },
        "id": "5W1kSkTxFoGV",
        "outputId": "485a6228-96cd-40b3-8943-74dfd73f7a65"
      },
      "outputs": [],
      "source": [
        "# download dataset\n",
        "%cd /content/\n",
        "!gdown https://drive.google.com/uc?id=1kSQfEg4kkch6npr9cZmHJx6CiZsoZjFZ\n"
      ]
    },
    {
      "cell_type": "code",
      "execution_count": 4,
      "metadata": {
        "id": "f8QjnK3dpnP3"
      },
      "outputs": [],
      "source": [
        "%%capture\n",
        "# unpack dataset\n",
        "\n",
        "!rm -r /content/cones_multi_class\n",
        "!unzip -u \"/content/cones_multi_class.zip\" -d \"/content/\";"
      ]
    },
    {
      "cell_type": "code",
      "execution_count": 6,
      "metadata": {
        "id": "MhkqzL-wFwpF"
      },
      "outputs": [],
      "source": [
        "# install dependencies\n",
        "%%capture\n",
        "!pip install wandb\n",
        "!pip install tensorflow_addons\n",
        "#!pip install gin-config"
      ]
    },
    {
      "cell_type": "code",
      "execution_count": 7,
      "metadata": {
        "id": "zu4k_1duC-DT"
      },
      "outputs": [],
      "source": [
        "# run training script\n",
        "# 37262d20054e8dbf092705158103cd02e31691d6\n",
        "%cd /content/\n",
        "!mkdir wandb\n",
        "%cd /content/dl-lab-21w-team08/GBR_starfish_detection/\n",
        "\n",
        "!wandb login 37262d20054e8dbf092705158103cd02e31691d6\n",
        "!python main.py -p=\"/content/cones_multi_class/\" --wandb_model={wandb_model} "
      ]
    }
  ],
  "metadata": {
    "accelerator": "GPU",
    "colab": {
      "collapsed_sections": [],
      "name": "GBR_Colab.ipynb",
      "provenance": []
    },
    "kernelspec": {
      "display_name": "Python 3.9.9 64-bit ('base39': venv)",
      "name": "python399jvsc74a57bd0d8d4156b2787bd13e2c930d9b973ab02563bf303cb6ce4e5b490ed11c7aabca6"
    },
    "language_info": {
      "name": "python",
      "version": ""
    }
  },
  "nbformat": 4,
  "nbformat_minor": 0
}
