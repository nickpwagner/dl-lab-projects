{
  "cells": [
    {
      "cell_type": "markdown",
      "metadata": {
        "id": "BU6NpCV8HK6_"
      },
      "source": [
        "## Great Barrier Reef - Training Script\n",
        "\n",
        "Downloads the specified branch of the repo from the github and can run the training or even a full parameter sweep."
      ]
    },
    {
      "cell_type": "code",
      "execution_count": 1,
      "metadata": {
        "id": "hOKdDBKNZzsy"
      },
      "outputs": [],
      "source": [
        "#@title Select your options\n",
        "branch_name = \"GBR_starfish_detection\"    #@param {type:\"string\"}\n",
        "wandb_model = \"New\"    #@param [\"New\", \"stuttgartteam8/protect_gbr/136q0aks\", \"stuttgartteam8/protect_gbr/15ysbcdo\", \"stuttgartteam8/protect_gbr/225emsat\", \"stuttgartteam8/protect_gbr/2h1ckitl\", \"stuttgartteam8/protect_gbr/29mmyvgw\", \"stuttgartteam8/protect_gbr/2pjrq56n\"]\n",
        "\n",
        "\n",
        "# architecture 2 - less weights to prevent overfitting\n",
        "\n",
        "\n",
        "# architecture 1 - til 24.1.22\n",
        "# \"stuttgartteam8/protect_gbr/136q0aks\" # run93 - based on run90 - trained for 100 epochs with heavy augmentation - ok results on train and test\n",
        "# \"stuttgartteam8/protect_gbr/15ysbcdo\" # run90 - based on run88 - 50 epochs without augmentation - good results only on training set\n",
        "# \"stuttgartteam8/protect_gbr/225emsat\" # run88 - based on run85 - 50 epochs without augmentation - good results only on training set \n",
        "# \"stuttgartteam8/protect_gbr/2h1ckitl\" # run85 - based on run84 - 70 epochs without augmentation - ok results only on training set \n",
        "# \"stuttgartteam8/protect_gbr/29mmyvgw\" # run84 - based on run27 - 10 epochs without augmentation - very bad results\n",
        "# \"stuttgartteam8/protect_gbr/2pjrq56n\" # run27 - new            - 70 epochs without augmentation - very bad results"
      ]
    },
    {
      "cell_type": "code",
      "execution_count": null,
      "metadata": {
        "colab": {
          "base_uri": "https://localhost:8080/"
        },
        "id": "Mn_otFyluR2P",
        "outputId": "854cca9a-c72a-4c0b-bb55-578ce05524f9"
      },
      "outputs": [],
      "source": [
        "!nvidia-smi"
      ]
    },
    {
      "cell_type": "code",
      "execution_count": null,
      "metadata": {},
      "outputs": [],
      "source": [
        "# delete existing repo to ensure the newest is fetched from github \n",
        "% cd /\n",
        "!rm -r /content/dl-lab-21w-team08\n",
        "\n",
        "# download repo\n",
        "# %%capture\n",
        "%cd /content/\n",
        "git_access_token = \"28fdd19659f4a0e5bcaf16dd820e5c68bed91102\"\n",
        "\n",
        "# !git clone https://28fdd19659f4a0e5bcaf16dd820e5c68bed91102@github.tik.uni-stuttgart.de/iss/dl-lab-21w-team08.git\n",
        "clone_comand = f\"git clone --single-branch --branch {branch_name} https://{git_access_token}@github.tik.uni-stuttgart.de/iss/dl-lab-21w-team08.git\"\n",
        "!$clone_comand"
      ]
    },
    {
      "cell_type": "code",
      "execution_count": null,
      "metadata": {
        "colab": {
          "base_uri": "https://localhost:8080/"
        },
        "id": "5W1kSkTxFoGV",
        "outputId": "485a6228-96cd-40b3-8943-74dfd73f7a65"
      },
      "outputs": [],
      "source": [
        "# download dataset\n",
        "%cd /content/\n",
        "!gdown https://drive.google.com/uc?id=1pJM8yoVMKrptXCZcLT26J5R7MFLHIzo9\n"
      ]
    },
    {
      "cell_type": "code",
      "execution_count": 4,
      "metadata": {
        "id": "f8QjnK3dpnP3"
      },
      "outputs": [],
      "source": [
        "%%capture\n",
        "# unpack dataset\n",
        "\n",
        "!rm -r /content/GBR_dataset\n",
        "!unzip -u \"/content/GBR_dataset.zip\" -d \"/content/\";"
      ]
    },
    {
      "cell_type": "code",
      "execution_count": 6,
      "metadata": {
        "id": "MhkqzL-wFwpF"
      },
      "outputs": [],
      "source": [
        "# install dependencies\n",
        "%%capture\n",
        "!pip install wandb\n",
        "!pip install tensorflow_addons\n",
        "#!pip install gin-config"
      ]
    },
    {
      "cell_type": "code",
      "execution_count": 7,
      "metadata": {
        "id": "zu4k_1duC-DT"
      },
      "outputs": [],
      "source": [
        "# run training script\n",
        "# 37262d20054e8dbf092705158103cd02e31691d6\n",
        "%cd /content/\n",
        "!mkdir wandb\n",
        "%cd /content/dl-lab-21w-team08/GBR_starfish_detection/\n",
        "\n",
        "!wandb login 37262d20054e8dbf092705158103cd02e31691d6\n",
        "!python main.py -p=\"/content/GBR_dataset/\" --wandb_model={wandb_model} --dataset_slice_end=23500"
      ]
    }
  ],
  "metadata": {
    "accelerator": "GPU",
    "colab": {
      "collapsed_sections": [],
      "name": "GBR_Colab.ipynb",
      "provenance": []
    },
    "kernelspec": {
      "display_name": "Python 3.9.9 64-bit ('base39': venv)",
      "name": "python399jvsc74a57bd0d8d4156b2787bd13e2c930d9b973ab02563bf303cb6ce4e5b490ed11c7aabca6"
    },
    "language_info": {
      "name": "python",
      "version": ""
    }
  },
  "nbformat": 4,
  "nbformat_minor": 0
}
