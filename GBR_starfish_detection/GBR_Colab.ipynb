{
  "cells": [
    {
      "cell_type": "markdown",
      "metadata": {
        "id": "BU6NpCV8HK6_"
      },
      "source": [
        "## Great Barrier Reef - Training Script\n",
        "\n",
        "Downloads the specified branch of the repo from the github and can run the training or even a full parameter sweep."
      ]
    },
    {
      "cell_type": "code",
      "execution_count": 1,
      "metadata": {
        "id": "hOKdDBKNZzsy"
      },
      "outputs": [],
      "source": [
        "#@title Select your options\n",
        "branch_name = \"GBR_HighRes\"    #@param {type:\"string\"}\n",
        "wandb_model = \"New\"    #@param [\"New\", \"stuttgartteam8/protect_gbr/136q0aks\", \"stuttgartteam8/protect_gbr/15ysbcdo\", \"stuttgartteam8/protect_gbr/225emsat\", \"stuttgartteam8/protect_gbr/2h1ckitl\", \"stuttgartteam8/protect_gbr/29mmyvgw\", \"stuttgartteam8/protect_gbr/2pjrq56n\"]\n",
        "\n",
        "\n",
        "# architecture 2 - less weights to prevent overfitting\n",
        "\n",
        "\n",
        "# architecture 1 - til 24.1.22\n",
        "# \"stuttgartteam8/protect_gbr/136q0aks\" # run93 - based on run90 - trained for 100 epochs with heavy augmentation - ok results on train and test\n",
        "# \"stuttgartteam8/protect_gbr/15ysbcdo\" # run90 - based on run88 - 50 epochs without augmentation - good results only on training set\n",
        "# \"stuttgartteam8/protect_gbr/225emsat\" # run88 - based on run85 - 50 epochs without augmentation - good results only on training set \n",
        "# \"stuttgartteam8/protect_gbr/2h1ckitl\" # run85 - based on run84 - 70 epochs without augmentation - ok results only on training set \n",
        "# \"stuttgartteam8/protect_gbr/29mmyvgw\" # run84 - based on run27 - 10 epochs without augmentation - very bad results\n",
        "# \"stuttgartteam8/protect_gbr/2pjrq56n\" # run27 - new            - 70 epochs without augmentation - very bad results"
      ]
    },
    {
      "cell_type": "code",
      "execution_count": null,
      "metadata": {
        "colab": {
          "base_uri": "https://localhost:8080/"
        },
        "id": "Mn_otFyluR2P",
        "outputId": "eed46624-a84a-440c-f829-d2692ae3d4c5"
      },
      "outputs": [],
      "source": [
        "!nvidia-smi"
      ]
    },
    {
      "cell_type": "code",
      "execution_count": null,
      "metadata": {
        "colab": {
          "base_uri": "https://localhost:8080/"
        },
        "id": "m7nOgZH1Xw91",
        "outputId": "f735d4cc-5350-4264-fb9e-515c7f56537f"
      },
      "outputs": [],
      "source": [
        "# delete existing repo to ensure the newest is fetched from github \n",
        "% cd /\n",
        "!rm -r /content/dl-lab-21w-team08\n",
        "\n",
        "# download repo\n",
        "# %%capture\n",
        "%cd /content/\n",
        "git_access_token = \"28fdd19659f4a0e5bcaf16dd820e5c68bed91102\"\n",
        "\n",
        "# !git clone https://28fdd19659f4a0e5bcaf16dd820e5c68bed91102@github.tik.uni-stuttgart.de/iss/dl-lab-21w-team08.git\n",
        "clone_comand = f\"git clone --single-branch --branch {branch_name} https://{git_access_token}@github.tik.uni-stuttgart.de/iss/dl-lab-21w-team08.git\"\n",
        "!$clone_comand"
      ]
    },
    {
      "cell_type": "code",
      "execution_count": null,
      "metadata": {
        "colab": {
          "base_uri": "https://localhost:8080/"
        },
        "id": "5W1kSkTxFoGV",
        "outputId": "0d77f710-d7f5-49ad-9c78-763ee826bb15"
      },
      "outputs": [],
      "source": [
        "# download dataset\n",
        "%cd /content/\n",
        "#!gdown https://drive.google.com/uc?id=1pJM8yoVMKrptXCZcLT26J5R7MFLHIzo9\n",
        "!gdown https://drive.google.com/uc?id=1wLdAVOodhlZ2cGxF7KSwLP0oid3S6CK2  # 896x896"
      ]
    },
    {
      "cell_type": "code",
      "execution_count": 5,
      "metadata": {
        "id": "f8QjnK3dpnP3"
      },
      "outputs": [],
      "source": [
        "%%capture\n",
        "# unpack dataset\n",
        "\n",
        "!rm -r /content/GBR_dataset\n",
        "!unzip -u \"/content/GBR_dataset_996.zip\" -d \"/content/\";"
      ]
    },
    {
      "cell_type": "code",
      "execution_count": 6,
      "metadata": {
        "id": "MhkqzL-wFwpF"
      },
      "outputs": [],
      "source": [
        "# install dependencies\n",
        "%%capture\n",
        "!pip install wandb\n",
        "!pip install tensorflow_addons\n",
        "#!pip install gin-config"
      ]
    },
    {
      "cell_type": "code",
      "execution_count": null,
      "metadata": {
        "colab": {
          "base_uri": "https://localhost:8080/"
        },
        "id": "zu4k_1duC-DT",
        "outputId": "c5b325dd-1247-4dff-ca8c-5ee77c676c34"
      },
      "outputs": [],
      "source": [
        "# run training script\n",
        "# 37262d20054e8dbf092705158103cd02e31691d6\n",
        "%cd /content/\n",
        "!mkdir wandb\n",
        "%cd /content/dl-lab-21w-team08/GBR_starfish_detection/\n",
        "\n",
        "!wandb login 37262d20054e8dbf092705158103cd02e31691d6\n",
        "!python main.py -p=\"/content/GBR_dataset_996/\" --wandb_model={wandb_model} --dataset_slice_end=23500"
      ]
    }
  ],
  "metadata": {
    "accelerator": "GPU",
    "colab": {
      "collapsed_sections": [],
      "name": "GBR_Colab.ipynb",
      "provenance": []
    },
    "kernelspec": {
      "display_name": "Python 3.9.9 64-bit ('base39': venv)",
      "name": "python399jvsc74a57bd0d8d4156b2787bd13e2c930d9b973ab02563bf303cb6ce4e5b490ed11c7aabca6"
    },
    "language_info": {
      "name": "python",
      "version": ""
    }
  },
  "nbformat": 4,
  "nbformat_minor": 0
}
