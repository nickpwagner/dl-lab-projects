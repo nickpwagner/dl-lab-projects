{
  "cells": [
    {
      "cell_type": "markdown",
      "metadata": {
        "id": "DcVwtt6Izn1P"
      },
      "source": [
        "[![Open In Colab](https://colab.research.google.com/assets/colab-badge.svg)](https://github.tik.uni-stuttgart.de/iss/dl-lab-21w-team08/blob/7919ab59198be104e465f6a7f4c8fd227c91b5f9/Diabetic_Retinopathy_Detection_Colab.ipynb)\n",
        "\n"
      ]
    },
    {
      "cell_type": "code",
      "execution_count": 12,
      "metadata": {
        "id": "hOKdDBKNZzsy"
      },
      "outputs": [],
      "source": [
        "#@title Select your options\r\n",
        "\r\n",
        "user = \"stuttgartteam8\" #@param [\"stuttgartteam8\", \"david\", \"nick\"]\r\n",
        "branch_name = \"useWandb_dropGin\"    #@param {type:\"string\"}\r\n",
        "\r\n",
        "train = True #@param {type:\"boolean\"}\r\n",
        "\r\n",
        "sweep = True #@param {type:\"boolean\"}\r\n",
        "sweep_file = \"sweep.yaml\" #@param {type:\"string\"}"
      ]
    },
    {
      "cell_type": "code",
      "execution_count": 13,
      "metadata": {
        "colab": {
          "base_uri": "https://localhost:8080/"
        },
        "id": "Mn_otFyluR2P",
        "outputId": "bb06b84e-367f-40e6-c85b-45b2292d9875"
      },
      "outputs": [
        {
          "name": "stdout",
          "output_type": "stream",
          "text": [
            "Thu Dec  2 13:08:02 2021       \n",
            "+-----------------------------------------------------------------------------+\n",
            "| NVIDIA-SMI 495.44       Driver Version: 460.32.03    CUDA Version: 11.2     |\n",
            "|-------------------------------+----------------------+----------------------+\n",
            "| GPU  Name        Persistence-M| Bus-Id        Disp.A | Volatile Uncorr. ECC |\n",
            "| Fan  Temp  Perf  Pwr:Usage/Cap|         Memory-Usage | GPU-Util  Compute M. |\n",
            "|                               |                      |               MIG M. |\n",
            "|===============================+======================+======================|\n",
            "|   0  Tesla P100-PCIE...  Off  | 00000000:00:04.0 Off |                    0 |\n",
            "| N/A   42C    P0    27W / 250W |      0MiB / 16280MiB |      0%      Default |\n",
            "|                               |                      |                  N/A |\n",
            "+-------------------------------+----------------------+----------------------+\n",
            "                                                                               \n",
            "+-----------------------------------------------------------------------------+\n",
            "| Processes:                                                                  |\n",
            "|  GPU   GI   CI        PID   Type   Process name                  GPU Memory |\n",
            "|        ID   ID                                                   Usage      |\n",
            "|=============================================================================|\n",
            "|  No running processes found                                                 |\n",
            "+-----------------------------------------------------------------------------+\n"
          ]
        }
      ],
      "source": [
        "!nvidia-smi"
      ]
    },
    {
      "cell_type": "code",
      "execution_count": 3,
      "metadata": {
        "id": "5W1kSkTxFoGV"
      },
      "outputs": [],
      "source": [
        "# download dataset\r\n",
        "%%capture\r\n",
        "%cd /content/\r\n",
        "# 512x512 datase (recommended to unsure better image quality after cropping...)\r\n",
        "!gdown https://drive.google.com/uc?id=1GPX8OTNfLX1jtm6iouBZf8BBnW9gKiLM\r\n",
        "!unzip -u \"/content/IDRID_dataset_512x512.zip\" -d \"/content/\";\r\n",
        "# 256x256 dataset\r\n",
        "#!gdown https://drive.google.com/uc?id=1scBdv4rcSDI0E45snBNrCnXNr9T5AnN_\r\n",
        "#!unzip -u \"/content/IDRID_dataset.zip\" -d \"/content/\";"
      ]
    },
    {
      "cell_type": "code",
      "execution_count": 18,
      "metadata": {
        "colab": {
          "base_uri": "https://localhost:8080/"
        },
        "id": "57_0u9-gqtmS",
        "outputId": "33ff92f7-2154-4682-9448-390e05a5e0c1"
      },
      "outputs": [
        {
          "name": "stdout",
          "output_type": "stream",
          "text": [
            "/\n",
            "/content\n",
            "Cloning into 'dl-lab-21w-team08'...\n",
            "remote: Enumerating objects: 3, done.\u001b[K\n",
            "remote: Counting objects: 100% (3/3), done.\u001b[K\n",
            "remote: Compressing objects: 100% (2/2), done.\u001b[K\n",
            "remote: Total 130 (delta 2), reused 1 (delta 1), pack-reused 127\n",
            "Receiving objects: 100% (130/130), 5.57 MiB | 5.91 MiB/s, done.\n",
            "Resolving deltas: 100% (55/55), done.\n"
          ]
        }
      ],
      "source": [
        "# delete existing repo to ensure the newest is fetched from github \r\n",
        "% cd /\r\n",
        "!rm -r /content/dl-lab-21w-team08\r\n",
        "\r\n",
        "# download repo\r\n",
        "# %%capture\r\n",
        "%cd /content/\r\n",
        "#if user == \"david\":\r\n",
        "git_access_token = \"28fdd19659f4a0e5bcaf16dd820e5c68bed91102\"\r\n",
        "\r\n",
        "# !git clone https://28fdd19659f4a0e5bcaf16dd820e5c68bed91102@github.tik.uni-stuttgart.de/iss/dl-lab-21w-team08.git\r\n",
        "clone_comand = f\"git clone --single-branch --branch {branch_name} https://{git_access_token}@github.tik.uni-stuttgart.de/iss/dl-lab-21w-team08.git\"\r\n",
        "!$clone_comand"
      ]
    },
    {
      "cell_type": "code",
      "execution_count": 6,
      "metadata": {
        "id": "MhkqzL-wFwpF"
      },
      "outputs": [],
      "source": [
        "# install dependencies\n",
        "%%capture\n",
        "!pip install wandb\n",
        "#!pip install gin-config"
      ]
    },
    {
      "cell_type": "code",
      "execution_count": 7,
      "metadata": {
        "id": "zu4k_1duC-DT"
      },
      "outputs": [],
      "source": [
        "%%capture out\r\n",
        "# run training script\r\n",
        "# 37262d20054e8dbf092705158103cd02e31691d6\r\n",
        "%cd /content/\r\n",
        "!mkdir wandb\r\n",
        "%cd /content/dl-lab-21w-team08/\r\n",
        "if user == \"stuttgartteam8\":\r\n",
        "    !wandb login 37262d20054e8dbf092705158103cd02e31691d6\r\n",
        "elif \"david\":\r\n",
        "    !wandb login 37262d20054e8dbf092705158103cd02e31691d6\r\n",
        "elif user == \"nick\":\r\n",
        "    !wandb login \r\n",
        "if sweep:\r\n",
        "    configure_sweep = f\"wandb sweep {sweep_file}\"\r\n",
        "    !$configure_sweep\r\n",
        "else:\r\n",
        "    !python main.py -p=\"/content/\" --train=True --epochs=20"
      ]
    },
    {
      "cell_type": "code",
      "execution_count": null,
      "metadata": {
        "id": "6moBWqeNjNWn"
      },
      "outputs": [],
      "source": [
        "if sweep:\n",
        "    command = out.stdout[out.stdout.find(\"Run sweep agent with: \\x1b[33m\") + 27 : -5]\n",
        "    print(command)\n",
        "    !$command"
      ]
    }
  ],
  "metadata": {
    "accelerator": "GPU",
    "colab": {
      "collapsed_sections": [],
      "name": "Diabetic_Retinopathy_Detection_Colab.ipynb",
      "provenance": []
    },
    "kernelspec": {
      "display_name": "Python 3.9.9 64-bit ('base39': venv)",
      "name": "python399jvsc74a57bd0d8d4156b2787bd13e2c930d9b973ab02563bf303cb6ce4e5b490ed11c7aabca6"
    },
    "language_info": {
      "name": "python",
      "version": ""
    }
  },
  "nbformat": 4,
  "nbformat_minor": 0
}