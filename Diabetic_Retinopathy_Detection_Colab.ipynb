{
  "cells": [
    {
      "cell_type": "markdown",
      "metadata": {
        "id": "A_jNLgivBcjG"
      },
      "source": [
        "This notebook is used to run the CNN training from my repo\n",
        "\n",
        "Personal access token for Github\n",
        "28fdd19659f4a0e5bcaf16dd820e5c68bed91102"
      ]
    },
    {
      "cell_type": "markdown",
      "metadata": {},
      "source": [
        "[![Open In Colab](https://colab.research.google.com/assets/colab-badge.svg)](https://github.tik.uni-stuttgart.de/iss/dl-lab-21w-team08/blob/7919ab59198be104e465f6a7f4c8fd227c91b5f9/Diabetic_Retinopathy_Detection_Colab.ipynb)\r\n",
        "\r\n"
      ]
    },
    {
      "cell_type": "code",
      "execution_count": 41,
      "metadata": {
        "id": "hOKdDBKNZzsy"
      },
      "outputs": [],
      "source": [
        "#@title Select your options\n",
        "\n",
        "user = \"david\" #@param [\"david\", \"nick\"]\n",
        "sweep = True #@param {type:\"boolean\"}\n",
        "train = True #@param {type:\"boolean\"}"
      ]
    },
    {
      "cell_type": "code",
      "execution_count": 42,
      "metadata": {
        "colab": {
          "base_uri": "https://localhost:8080/"
        },
        "id": "Mn_otFyluR2P",
        "outputId": "894da351-77d5-4042-d6c6-6f93bbb37838"
      },
      "outputs": [
        {
          "name": "stdout",
          "output_type": "stream",
          "text": [
            "Tue Nov 30 15:52:41 2021       \n",
            "+-----------------------------------------------------------------------------+\n",
            "| NVIDIA-SMI 495.44       Driver Version: 460.32.03    CUDA Version: 11.2     |\n",
            "|-------------------------------+----------------------+----------------------+\n",
            "| GPU  Name        Persistence-M| Bus-Id        Disp.A | Volatile Uncorr. ECC |\n",
            "| Fan  Temp  Perf  Pwr:Usage/Cap|         Memory-Usage | GPU-Util  Compute M. |\n",
            "|                               |                      |               MIG M. |\n",
            "|===============================+======================+======================|\n",
            "|   0  Tesla P100-PCIE...  Off  | 00000000:00:04.0 Off |                    0 |\n",
            "| N/A   36C    P0    27W / 250W |      0MiB / 16280MiB |      0%      Default |\n",
            "|                               |                      |                  N/A |\n",
            "+-------------------------------+----------------------+----------------------+\n",
            "                                                                               \n",
            "+-----------------------------------------------------------------------------+\n",
            "| Processes:                                                                  |\n",
            "|  GPU   GI   CI        PID   Type   Process name                  GPU Memory |\n",
            "|        ID   ID                                                   Usage      |\n",
            "|=============================================================================|\n",
            "|  No running processes found                                                 |\n",
            "+-----------------------------------------------------------------------------+\n"
          ]
        }
      ],
      "source": [
        "!nvidia-smi"
      ]
    },
    {
      "cell_type": "code",
      "execution_count": 43,
      "metadata": {
        "id": "5W1kSkTxFoGV"
      },
      "outputs": [],
      "source": [
        "# download dataset\n",
        "%%capture\n",
        "%cd /content/\n",
        "!gdown https://drive.google.com/uc?id=1scBdv4rcSDI0E45snBNrCnXNr9T5AnN_\n",
        "!unzip -u \"/content/IDRID_dataset.zip\" -d \"/content/\";"
      ]
    },
    {
      "cell_type": "code",
      "execution_count": 44,
      "metadata": {
        "colab": {
          "base_uri": "https://localhost:8080/"
        },
        "id": "Z97yCWvnyee-",
        "outputId": "a7c69184-1a9f-47ca-94cc-3b0a732fcb82"
      },
      "outputs": [
        {
          "name": "stdout",
          "output_type": "stream",
          "text": [
            "/\n",
            "rm: cannot remove '/content/dl-lab-21w-team08': No such file or directory\n"
          ]
        }
      ],
      "source": [
        "# delete existing repo to ensure the newest is fetched from github \n",
        "% cd /\n",
        "!rm -r /content/dl-lab-21w-team08"
      ]
    },
    {
      "cell_type": "code",
      "execution_count": 45,
      "metadata": {
        "colab": {
          "base_uri": "https://localhost:8080/"
        },
        "id": "57_0u9-gqtmS",
        "outputId": "9d26a960-3387-496a-caa7-03444ac55c37"
      },
      "outputs": [
        {
          "name": "stdout",
          "output_type": "stream",
          "text": [
            "/content\n",
            "Cloning into 'dl-lab-21w-team08'...\n",
            "remote: Enumerating objects: 32, done.\u001b[K\n",
            "remote: Counting objects: 100% (32/32), done.\u001b[K\n",
            "remote: Compressing objects: 100% (24/24), done.\u001b[K\n",
            "remote: Total 108 (delta 16), reused 21 (delta 8), pack-reused 76\n",
            "Receiving objects: 100% (108/108), 5.56 MiB | 28.33 MiB/s, done.\n",
            "Resolving deltas: 100% (36/36), done.\n"
          ]
        }
      ],
      "source": [
        "# download repo\n",
        "# %%capture\n",
        "%cd /content/\n",
        "if user == \"david\":\n",
        "    # !git clone https://28fdd19659f4a0e5bcaf16dd820e5c68bed91102@github.tik.uni-stuttgart.de/iss/dl-lab-21w-team08.git\n",
        "    !git clone --single-branch --branch useWandb_dropGin https://28fdd19659f4a0e5bcaf16dd820e5c68bed91102@github.tik.uni-stuttgart.de/iss/dl-lab-21w-team08.git"
      ]
    },
    {
      "cell_type": "code",
      "execution_count": 46,
      "metadata": {
        "id": "MhkqzL-wFwpF"
      },
      "outputs": [],
      "source": [
        "# install dependencies\n",
        "%%capture\n",
        "!pip install wandb\n",
        "#!pip install gin-config"
      ]
    },
    {
      "cell_type": "code",
      "execution_count": 49,
      "metadata": {
        "id": "zu4k_1duC-DT"
      },
      "outputs": [],
      "source": [
        "%%capture out\n",
        "# run training script\n",
        "# 37262d20054e8dbf092705158103cd02e31691d6\n",
        "%cd /content/\n",
        "!mkdir wandb\n",
        "%cd /content/dl-lab-21w-team08/\n",
        "if user == \"david\":\n",
        "    !wandb login 37262d20054e8dbf092705158103cd02e31691d6\n",
        "if user == \"nick\":\n",
        "    !wandb login \n",
        "if not sweep:\n",
        "    !python main.py -p=\"/content/\" --train=True --epochs=20\n",
        "else:\n",
        "    !wandb sweep sweep_colab.yaml"
      ]
    },
    {
      "cell_type": "code",
      "execution_count": null,
      "metadata": {
        "colab": {
          "base_uri": "https://localhost:8080/"
        },
        "id": "6moBWqeNjNWn",
        "outputId": "4ddf2299-702f-48e5-d6ff-b3f6cad5eb17"
      },
      "outputs": [
        {
          "name": "stdout",
          "output_type": "stream",
          "text": [
            "wandb agent davidu/diabetic_retinopathy/iem4yn95\n",
            "\u001b[34m\u001b[1mwandb\u001b[0m: Starting wandb agent 🕵️\n",
            "2021-11-30 15:57:18,105 - wandb.wandb_agent - INFO - Running runs: []\n",
            "2021-11-30 15:57:24,827 - wandb.wandb_agent - INFO - Agent received command: run\n",
            "2021-11-30 15:57:24,827 - wandb.wandb_agent - INFO - Agent starting run with config:\n",
            "\tarchitecture: resnet50\n",
            "\tbatch_size: 16\n",
            "\tdata_dir: /content/\n",
            "\tepochs: 20\n",
            "\thead_dense0: 0\n",
            "\thead_dense1: 0\n",
            "\timg_height: 256\n",
            "\timg_width: 256\n",
            "\tinput_shape: [256, 256, 3]\n",
            "\tlearning_rate: 0.01\n",
            "\tloss_function: categorical_crossentropy\n",
            "\tn_classes: 5\n",
            "\toptimizer: adam\n",
            "\tval_split: 0.8\n",
            "2021-11-30 15:57:24,830 - wandb.wandb_agent - INFO - About to run command: python main.py\n",
            "\u001b[34m\u001b[1mwandb\u001b[0m: Currently logged in as: \u001b[33mdavidu\u001b[0m (use `wandb login --relogin` to force relogin)\n",
            "\u001b[34m\u001b[1mwandb\u001b[0m: \u001b[33mWARNING\u001b[0m Ignored wandb.init() arg project when running a sweep\n",
            "2021-11-30 15:57:29,840 - wandb.wandb_agent - INFO - Running runs: ['pl4iuwr3']\n",
            "\u001b[34m\u001b[1mwandb\u001b[0m: Tracking run with wandb version 0.12.7\n",
            "\u001b[34m\u001b[1mwandb\u001b[0m: Syncing run \u001b[33msplendid-sweep-1\u001b[0m\n",
            "\u001b[34m\u001b[1mwandb\u001b[0m: ⭐️ View project at \u001b[34m\u001b[4mhttps://wandb.ai/davidu/diabetic_retinopathy\u001b[0m\n",
            "\u001b[34m\u001b[1mwandb\u001b[0m: 🧹 View sweep at \u001b[34m\u001b[4mhttps://wandb.ai/davidu/diabetic_retinopathy/sweeps/iem4yn95\u001b[0m\n",
            "\u001b[34m\u001b[1mwandb\u001b[0m: 🚀 View run at \u001b[34m\u001b[4mhttps://wandb.ai/davidu/diabetic_retinopathy/runs/pl4iuwr3\u001b[0m\n",
            "\u001b[34m\u001b[1mwandb\u001b[0m: Run data is saved locally in /content/dl-lab-21w-team08/wandb/run-20211130_155728-pl4iuwr3\n",
            "\u001b[34m\u001b[1mwandb\u001b[0m: Run `wandb offline` to turn off syncing.\n",
            "\n",
            "2021-11-30 15:57:33.889050: W tensorflow/core/common_runtime/gpu/gpu_bfc_allocator.cc:39] Overriding allow_growth setting because the TF_FORCE_GPU_ALLOW_GROWTH environment variable is set. Original config value was 0.\n",
            "Downloading data from https://storage.googleapis.com/tensorflow/keras-applications/resnet/resnet50_weights_tf_dim_ordering_tf_kernels_notop.h5\n",
            "94773248/94765736 [==============================] - 0s 0us/step\n",
            "94781440/94765736 [==============================] - 0s 0us/step\n",
            "Model: \"resnet50\"\n",
            "_________________________________________________________________\n",
            " Layer (type)                Output Shape              Param #   \n",
            "=================================================================\n",
            " input_2 (InputLayer)        [(None, 256, 256, 3)]     0         \n",
            "                                                                 \n",
            " tf.cast (TFOpLambda)        (None, 256, 256, 3)       0         \n",
            "                                                                 \n",
            " tf.__operators__.getitem (S  (None, 256, 256, 3)      0         \n",
            " licingOpLambda)                                                 \n",
            "                                                                 \n",
            " tf.nn.bias_add (TFOpLambda)  (None, 256, 256, 3)      0         \n",
            "                                                                 \n",
            " resnet50 (Functional)       (None, 8, 8, 2048)        23587712  \n",
            "                                                                 \n",
            " global_average_pooling2d (G  (None, 2048)             0         \n",
            " lobalAveragePooling2D)                                          \n",
            "                                                                 \n",
            " dense (Dense)               (None, 5)                 10245     \n",
            "                                                                 \n",
            "=================================================================\n",
            "Total params: 23,597,957\n",
            "Trainable params: 10,245\n",
            "Non-trainable params: 23,587,712\n",
            "_________________________________________________________________\n",
            "Epoch 1/20\n",
            "/usr/local/lib/python3.7/dist-packages/keras/engine/functional.py:1410: CustomMaskWarning: Custom mask layers require a config and must override get_config. When loading, the custom mask layer must be passed to the custom_objects argument.\n",
            "  layer_config = serialize_layer_fn(layer)\n",
            "21/21 - 13s - loss: 3.8720 - accuracy: 0.4394 - val_loss: 2.2866 - val_accuracy: 0.5301 - 13s/epoch - 611ms/step\n",
            "Epoch 2/20\n",
            "21/21 - 2s - loss: 1.8878 - accuracy: 0.5667 - val_loss: 1.9031 - val_accuracy: 0.4819 - 2s/epoch - 89ms/step\n",
            "Epoch 3/20\n",
            "21/21 - 2s - loss: 1.0437 - accuracy: 0.6576 - val_loss: 1.3072 - val_accuracy: 0.5301 - 2s/epoch - 83ms/step\n",
            "Epoch 4/20\n",
            "21/21 - 1s - loss: 0.9238 - accuracy: 0.7121 - val_loss: 1.5790 - val_accuracy: 0.4699 - 1s/epoch - 62ms/step\n",
            "Epoch 5/20\n",
            "21/21 - 1s - loss: 0.6124 - accuracy: 0.7727 - val_loss: 2.5835 - val_accuracy: 0.3494 - 1s/epoch - 60ms/step\n",
            "Epoch 6/20\n",
            "21/21 - 1s - loss: 0.6540 - accuracy: 0.7848 - val_loss: 1.6379 - val_accuracy: 0.5542 - 1s/epoch - 61ms/step\n",
            "Epoch 7/20\n",
            "21/21 - 1s - loss: 0.3129 - accuracy: 0.8667 - val_loss: 1.3111 - val_accuracy: 0.5542 - 1s/epoch - 61ms/step\n",
            "Epoch 8/20\n",
            "21/21 - 1s - loss: 0.2609 - accuracy: 0.8909 - val_loss: 1.7107 - val_accuracy: 0.5060 - 1s/epoch - 61ms/step\n",
            "Epoch 9/20\n",
            "21/21 - 1s - loss: 0.3331 - accuracy: 0.8545 - val_loss: 2.4039 - val_accuracy: 0.4337 - 1s/epoch - 60ms/step\n",
            "Epoch 10/20\n",
            "21/21 - 1s - loss: 0.3857 - accuracy: 0.8606 - val_loss: 1.6929 - val_accuracy: 0.5663 - 1s/epoch - 60ms/step\n",
            "Epoch 11/20\n",
            "21/21 - 1s - loss: 0.2560 - accuracy: 0.8909 - val_loss: 1.5118 - val_accuracy: 0.5783 - 1s/epoch - 62ms/step\n",
            "Epoch 12/20\n",
            "21/21 - 1s - loss: 0.1906 - accuracy: 0.9273 - val_loss: 2.2492 - val_accuracy: 0.4337 - 1s/epoch - 60ms/step\n",
            "Epoch 13/20\n",
            "21/21 - 1s - loss: 0.1791 - accuracy: 0.9273 - val_loss: 1.6272 - val_accuracy: 0.5783 - 1s/epoch - 61ms/step\n",
            "Epoch 14/20\n",
            "21/21 - 1s - loss: 0.0730 - accuracy: 0.9909 - val_loss: 2.0076 - val_accuracy: 0.4699 - 1s/epoch - 59ms/step\n",
            "Epoch 15/20\n",
            "21/21 - 1s - loss: 0.0830 - accuracy: 0.9818 - val_loss: 1.8668 - val_accuracy: 0.4819 - 1s/epoch - 60ms/step\n",
            "Epoch 16/20\n",
            "21/21 - 1s - loss: 0.0848 - accuracy: 0.9788 - val_loss: 1.8847 - val_accuracy: 0.4819 - 1s/epoch - 60ms/step\n",
            "Epoch 17/20\n",
            "21/21 - 1s - loss: 0.1171 - accuracy: 0.9606 - val_loss: 1.7782 - val_accuracy: 0.5060 - 1s/epoch - 59ms/step\n",
            "Epoch 18/20\n",
            "21/21 - 1s - loss: 0.1355 - accuracy: 0.9606 - val_loss: 1.9146 - val_accuracy: 0.5181 - 1s/epoch - 60ms/step\n",
            "Epoch 19/20\n",
            "21/21 - 1s - loss: 0.0726 - accuracy: 0.9879 - val_loss: 1.6685 - val_accuracy: 0.5783 - 1s/epoch - 60ms/step\n",
            "Epoch 20/20\n",
            "21/21 - 1s - loss: 0.0495 - accuracy: 0.9909 - val_loss: 1.5667 - val_accuracy: 0.6145 - 1s/epoch - 60ms/step\n",
            "\n",
            "\u001b[34m\u001b[1mwandb\u001b[0m: Waiting for W&B process to finish, PID 554... (success).\n",
            "\u001b[34m\u001b[1mwandb\u001b[0m:                                                                                \n",
            "\u001b[34m\u001b[1mwandb\u001b[0m: Run history:\n",
            "\u001b[34m\u001b[1mwandb\u001b[0m:       accuracy ▁▃▄▄▅▅▆▇▆▆▇▇▇███████\n",
            "\u001b[34m\u001b[1mwandb\u001b[0m:          epoch ▁▁▂▂▂▃▃▄▄▄▅▅▅▆▆▇▇▇██\n",
            "\u001b[34m\u001b[1mwandb\u001b[0m:           loss █▄▃▃▂▂▁▁▂▂▁▁▁▁▁▁▁▁▁▁\n",
            "\u001b[34m\u001b[1mwandb\u001b[0m:   val_accuracy ▆▅▆▄▁▆▆▅▃▇▇▃▇▄▅▅▅▅▇█\n",
            "\u001b[34m\u001b[1mwandb\u001b[0m:       val_loss ▆▄▁▂█▃▁▃▇▃▂▆▃▅▄▄▄▄▃▂\n",
            "\u001b[34m\u001b[1mwandb\u001b[0m: \n",
            "\u001b[34m\u001b[1mwandb\u001b[0m: Run summary:\n",
            "\u001b[34m\u001b[1mwandb\u001b[0m:        accuracy 0.99091\n",
            "\u001b[34m\u001b[1mwandb\u001b[0m:      best_epoch 2\n",
            "\u001b[34m\u001b[1mwandb\u001b[0m:   best_val_loss 1.30719\n",
            "\u001b[34m\u001b[1mwandb\u001b[0m:           epoch 19\n",
            "\u001b[34m\u001b[1mwandb\u001b[0m:            loss 0.04954\n",
            "\u001b[34m\u001b[1mwandb\u001b[0m:    val_accuracy 0.61446\n",
            "\u001b[34m\u001b[1mwandb\u001b[0m:        val_loss 1.5667\n",
            "\u001b[34m\u001b[1mwandb\u001b[0m: \n",
            "\u001b[34m\u001b[1mwandb\u001b[0m: Synced 5 W&B file(s), 0 media file(s), 0 artifact file(s) and 1 other file(s)\n",
            "\u001b[34m\u001b[1mwandb\u001b[0m: Synced \u001b[33msplendid-sweep-1\u001b[0m: \u001b[34mhttps://wandb.ai/davidu/diabetic_retinopathy/runs/pl4iuwr3\u001b[0m\n",
            "\u001b[34m\u001b[1mwandb\u001b[0m: Find logs at: ./wandb/run-20211130_155728-pl4iuwr3/logs/debug.log\n",
            "\u001b[34m\u001b[1mwandb\u001b[0m: \n"
          ]
        }
      ],
      "source": [
        "if sweep:\r\n",
        "    command = out.stdout[out.stdout.find(\"Run sweep agent with: \\x1b[33m\") + 27 : -5]\r\n",
        "    print(command)\r\n",
        "    !$command"
      ]
    }
  ],
  "metadata": {
    "accelerator": "GPU",
    "colab": {
      "collapsed_sections": [],
      "name": "Diabetic_Retinopathy_Detection.ipynb",
      "provenance": []
    },
    "kernelspec": {
      "display_name": "Python 3.9.9 64-bit",
      "name": "python399jvsc74a57bd0d8d4156b2787bd13e2c930d9b973ab02563bf303cb6ce4e5b490ed11c7aabca6"
    },
    "language_info": {
      "name": "python",
      "version": ""
    }
  },
  "nbformat": 4,
  "nbformat_minor": 0
}